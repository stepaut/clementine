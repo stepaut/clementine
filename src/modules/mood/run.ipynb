{
 "cells": [
  {
   "cell_type": "code",
   "execution_count": null,
   "metadata": {},
   "outputs": [],
   "source": [
    "import openfilegui\n",
    "from DaylioJournal import DaylioJournal\n",
    "\n",
    "file = openfilegui.gui_fname(\"./data/\").decode()\n",
    "j = DaylioJournal(file)\n",
    "\n",
    "# draw dots\n",
    "j.gen_dots(7)\n",
    "\n",
    "# draw histogram\n",
    "j.gen_hist()\n",
    "\n",
    "# draw plot\n",
    "j.gen_plot(2024)\n",
    "\n",
    "# draw trend for all years\n",
    "j.gen_mood_trend_line()\n",
    "\n",
    "# draw trend for last year\n",
    "j.gen_mood_trend_line(year=2024)"
   ]
  }
 ],
 "metadata": {
  "kernelspec": {
   "display_name": "Python 3",
   "language": "python",
   "name": "python3"
  },
  "language_info": {
   "codemirror_mode": {
    "name": "ipython",
    "version": 3
   },
   "file_extension": ".py",
   "mimetype": "text/x-python",
   "name": "python",
   "nbconvert_exporter": "python",
   "pygments_lexer": "ipython3",
   "version": "3.11.2"
  },
  "orig_nbformat": 4
 },
 "nbformat": 4,
 "nbformat_minor": 2
}
