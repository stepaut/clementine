{
 "cells": [
  {
   "cell_type": "code",
   "execution_count": null,
   "metadata": {},
   "outputs": [],
   "source": [
    "import openfilegui"
   ]
  },
  {
   "cell_type": "code",
   "execution_count": null,
   "metadata": {},
   "outputs": [],
   "source": [
    "# import data from aTimeLogger into timedata format into .csv in /temp\n",
    "from aTimeLogger_api import create_temp_timedata_from_aTimeLogger\n",
    "file = openfilegui.gui_fname(\"D:\\OneDrive\\LIFE\\Statistics\").decode()\n",
    "create_temp_timedata_from_aTimeLogger(file)"
   ]
  },
  {
   "cell_type": "code",
   "execution_count": null,
   "metadata": {},
   "outputs": [],
   "source": [
    "# import data from TouchTime into timedata format into .csv in /temp\n",
    "from TouchTime_api import create_temp_timedata_from_TouchTime\n",
    "file = openfilegui.gui_fname(\"D:\\OneDrive\\LIFE\\Statistics\").decode()\n",
    "create_temp_timedata_from_TouchTime(file)"
   ]
  },
  {
   "cell_type": "code",
   "execution_count": null,
   "metadata": {},
   "outputs": [],
   "source": [
    "# merging all imported data from /temp into new merging .csv\n",
    "from merging_timedata import merge_timedata\n",
    "merge_timedata()"
   ]
  },
  {
   "cell_type": "code",
   "execution_count": null,
   "metadata": {},
   "outputs": [],
   "source": [
    "# load merged data and create TimeData\n",
    "data = openfilegui.gui_fname(\"D:\\OneDrive\\LIFE\\Statistics\").decode()\n",
    "colors = openfilegui.gui_fname(\"D:\\OneDrive\\LIFE\\Statistics\").decode()\n",
    "from TimeData import TimeData\n",
    "timeData = TimeData(data, colors)\n",
    "\n",
    "# plot line chart for WEEK WITHOUT WORK\n",
    "timeData.draw_plot(\"week\", False)\n",
    "\n",
    "# plot line chart for WEEK WITH WORK\n",
    "timeData.draw_plot(\"week\", True)\n",
    "\n",
    "# plot line chart for MONTH WITHOUT WORK\n",
    "timeData.draw_plot(\"month\", False)\n",
    "\n",
    "# plot line chart for MONTH WITH WORK\n",
    "timeData.draw_plot(\"month\", True)\n",
    "\n",
    "# plot linegraph\n",
    "timeData.draw_linegraph()\n",
    "\n",
    "# plot daydata for all year\n",
    "timeData.plot_daily()\n",
    "\n",
    "# plot daydata for months\n",
    "for i in range(1, 13):\n",
    "    try:\n",
    "        timeData.plot_daily('month', month=i)\n",
    "    except Exception as error:\n",
    "        print(error)"
   ]
  }
 ],
 "metadata": {
  "kernelspec": {
   "display_name": "Python 3",
   "language": "python",
   "name": "python3"
  },
  "language_info": {
   "codemirror_mode": {
    "name": "ipython",
    "version": 3
   },
   "file_extension": ".py",
   "mimetype": "text/x-python",
   "name": "python",
   "nbconvert_exporter": "python",
   "pygments_lexer": "ipython3",
   "version": "3.11.2"
  }
 },
 "nbformat": 4,
 "nbformat_minor": 2
}
